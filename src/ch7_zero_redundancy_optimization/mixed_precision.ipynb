{
 "cells": [
  {
   "cell_type": "markdown",
   "id": "cb726b0d-922e-4516-9ead-02c6dd1e5eaa",
   "metadata": {},
   "source": [
    "### Mixed Precision"
   ]
  },
  {
   "cell_type": "code",
   "execution_count": 1,
   "id": "c4345101-617b-4725-af82-662b2884d40a",
   "metadata": {},
   "outputs": [],
   "source": [
    "import torch\n",
    "import torch.nn as nn\n",
    "\n",
    "class Net(nn.Module):\n",
    "    def __init__(self):\n",
    "        super().__init__()\n",
    "        self.w1 = nn.Linear(512, 512, bias=False)\n",
    "        self.w2 = nn.Linear(512, 1, bias=False)\n",
    "    \n",
    "    def forward(self, x):\n",
    "        z1 = self.w1(x)\n",
    "        z2 = self.w2(z1)\n",
    "        return z2"
   ]
  },
  {
   "cell_type": "code",
   "execution_count": 2,
   "id": "c3db1917-9bf7-4206-b09d-2a95c556067d",
   "metadata": {},
   "outputs": [],
   "source": [
    "from torch.optim import SGD\n",
    "\n",
    "fp32_model= Net().to(\"cuda\")\n",
    "optimizer = SGD(fp32_model.parameters(), lr=1e-2)"
   ]
  },
  {
   "cell_type": "code",
   "execution_count": 3,
   "id": "51280cd3-74d2-4396-8319-886b21b1fead",
   "metadata": {},
   "outputs": [
    {
     "data": {
      "text/plain": [
       "'GPU = 1.001953125 MB'"
      ]
     },
     "execution_count": 3,
     "metadata": {},
     "output_type": "execute_result"
    }
   ],
   "source": [
    "f\"GPU = {torch.cuda.memory_allocated(0) / (1024 ** 2)} MB\""
   ]
  },
  {
   "cell_type": "code",
   "execution_count": 4,
   "id": "22ae2d6a-9ba6-4bbe-8bcb-a99b9cd41ba4",
   "metadata": {},
   "outputs": [
    {
     "data": {
      "text/plain": [
       "<All keys matched successfully>"
      ]
     },
     "execution_count": 4,
     "metadata": {},
     "output_type": "execute_result"
    }
   ],
   "source": [
    "fp16_model = Net().half().to(\"cuda\")\n",
    "fp16_model.load_state_dict(fp32_model.state_dict())"
   ]
  },
  {
   "cell_type": "code",
   "execution_count": 5,
   "id": "ecf67d0f-4b9f-4c27-addb-0e9246be5ae7",
   "metadata": {},
   "outputs": [
    {
     "data": {
      "text/plain": [
       "'GPU = 1.5029296875 MB'"
      ]
     },
     "execution_count": 5,
     "metadata": {},
     "output_type": "execute_result"
    }
   ],
   "source": [
    "f\"GPU = {torch.cuda.memory_allocated(0) / (1024 ** 2)} MB\""
   ]
  },
  {
   "cell_type": "code",
   "execution_count": 6,
   "id": "111bbabc-8f2b-4aa8-ba40-54384fdf1acc",
   "metadata": {},
   "outputs": [
    {
     "data": {
      "text/plain": [
       "'logits type = torch.float16'"
      ]
     },
     "execution_count": 6,
     "metadata": {},
     "output_type": "execute_result"
    }
   ],
   "source": [
    "import torch\n",
    "\n",
    "# example input sizes\n",
    "batch_size, hidden_size = 4, 512\n",
    "\n",
    "# create dummy data (bsz=4, hid=512)\n",
    "x = torch.randn(batch_size,hidden_size, dtype=torch.half, device=\"cuda\") \n",
    "\n",
    "# do forward\n",
    "z2 = fp16_model(x)\n",
    "\n",
    "# check dtypr of output logits\n",
    "f\"logits type = {z2.dtype}\""
   ]
  },
  {
   "cell_type": "code",
   "execution_count": 7,
   "id": "38454e6d-cfca-4c8b-9106-07fd1e47ae97",
   "metadata": {},
   "outputs": [
    {
     "data": {
      "text/plain": [
       "'loss type = torch.float16'"
      ]
     },
     "execution_count": 7,
     "metadata": {},
     "output_type": "execute_result"
    }
   ],
   "source": [
    "# craete dummy data (bsz=4)\n",
    "y = torch.tensor([[1.9], [9.5], [0.9], [1.2]], dtype=torch.half, device=\"cuda\")\n",
    "\n",
    "# compute mean square error loss\n",
    "L = torch.nn.functional.mse_loss(z2, y)\n",
    "\n",
    "# check dtype of loss\n",
    "f\"loss type = {L.dtype}\""
   ]
  },
  {
   "cell_type": "code",
   "execution_count": 8,
   "id": "2d747cd8-3fca-4ae7-8816-0753552942f8",
   "metadata": {},
   "outputs": [],
   "source": [
    "# loss scaling\n",
    "L *= 1024\n",
    "\n",
    "# do backward\n",
    "L.backward()"
   ]
  },
  {
   "cell_type": "code",
   "execution_count": 9,
   "id": "6c416579-01a4-49bf-972c-793ed63c973f",
   "metadata": {},
   "outputs": [
    {
     "name": "stdout",
     "output_type": "stream",
     "text": [
      "before: Parameter containing:\n",
      "tensor([[-0.0283, -0.0093,  0.0111,  ...,  0.0222,  0.0309, -0.0075],\n",
      "        [ 0.0058,  0.0112,  0.0040,  ...,  0.0198,  0.0111,  0.0109],\n",
      "        [-0.0315, -0.0137,  0.0191,  ..., -0.0410,  0.0124, -0.0407],\n",
      "        ...,\n",
      "        [ 0.0271, -0.0025, -0.0171,  ...,  0.0044,  0.0420,  0.0172],\n",
      "        [ 0.0396,  0.0372, -0.0292,  ...,  0.0309, -0.0390,  0.0402],\n",
      "        [-0.0374,  0.0217,  0.0248,  ..., -0.0145, -0.0097, -0.0148]],\n",
      "       device='cuda:0', requires_grad=True)\n",
      "\n",
      "after: Parameter containing:\n",
      "tensor([[-0.0283, -0.0093,  0.0111,  ...,  0.0222,  0.0309, -0.0075],\n",
      "        [ 0.0058,  0.0112,  0.0040,  ...,  0.0198,  0.0111,  0.0109],\n",
      "        [-0.0315, -0.0137,  0.0191,  ..., -0.0410,  0.0124, -0.0407],\n",
      "        ...,\n",
      "        [ 0.0271, -0.0025, -0.0171,  ...,  0.0044,  0.0420,  0.0172],\n",
      "        [ 0.0396,  0.0372, -0.0292,  ...,  0.0309, -0.0390,  0.0402],\n",
      "        [-0.0374,  0.0217,  0.0248,  ..., -0.0145, -0.0097, -0.0148]],\n",
      "       device='cuda:0', requires_grad=True)\n",
      "\n"
     ]
    }
   ],
   "source": [
    "print(f'before: {fp32_model.w1.weight}\\n')\n",
    "optimizer.step()\n",
    "print(f'after: {fp32_model.w1.weight}\\n')"
   ]
  },
  {
   "cell_type": "code",
   "execution_count": 10,
   "id": "af27330a-007b-48b3-8d9c-b9ba376f019a",
   "metadata": {},
   "outputs": [],
   "source": [
    "# copy gradient to FP32 model\n",
    "fp32_model.w1.weight.grad = fp16_model.w1.weight.grad.float()\n",
    "fp32_model.w2.weight.grad = fp16_model.w2.weight.grad.float()"
   ]
  },
  {
   "cell_type": "code",
   "execution_count": 11,
   "id": "38b9463f-b568-49fc-b6d0-200b819cfa17",
   "metadata": {},
   "outputs": [
    {
     "name": "stdout",
     "output_type": "stream",
     "text": [
      "before: Parameter containing:\n",
      "tensor([[-0.0283, -0.0093,  0.0111,  ...,  0.0222,  0.0309, -0.0075],\n",
      "        [ 0.0058,  0.0112,  0.0040,  ...,  0.0198,  0.0111,  0.0109],\n",
      "        [-0.0315, -0.0137,  0.0191,  ..., -0.0410,  0.0124, -0.0407],\n",
      "        ...,\n",
      "        [ 0.0271, -0.0025, -0.0171,  ...,  0.0044,  0.0420,  0.0172],\n",
      "        [ 0.0396,  0.0372, -0.0292,  ...,  0.0309, -0.0390,  0.0402],\n",
      "        [-0.0374,  0.0217,  0.0248,  ..., -0.0145, -0.0097, -0.0148]],\n",
      "       device='cuda:0', requires_grad=True)\n",
      "\n",
      "after: Parameter containing:\n",
      "tensor([[-0.6399, -1.1324, -2.4314,  ..., -3.1628,  1.4747, -1.5225],\n",
      "        [-0.5933, -1.0895, -2.3885,  ..., -3.1002,  1.4261, -1.4741],\n",
      "        [ 0.3779,  0.7382,  1.6541,  ...,  2.0902, -0.9539,  0.9737],\n",
      "        ...,\n",
      "        [-0.0872, -0.2125, -0.4740,  ..., -0.5913,  0.3122, -0.2662],\n",
      "        [ 0.0162, -0.0058, -0.1226,  ..., -0.0910,  0.0162, -0.0178],\n",
      "        [ 0.1802,  0.4217,  0.8942,  ...,  1.1192, -0.5238,  0.5246]],\n",
      "       device='cuda:0', requires_grad=True)\n",
      "\n"
     ]
    }
   ],
   "source": [
    "print(f'before: {fp32_model.w1.weight}\\n')\n",
    "optimizer.step()\n",
    "print(f'after: {fp32_model.w1.weight}\\n')"
   ]
  },
  {
   "cell_type": "markdown",
   "id": "26b959ab-0638-43ef-91eb-66ffbeee3416",
   "metadata": {},
   "source": [
    "### ZeRO-DP"
   ]
  },
  {
   "cell_type": "code",
   "execution_count": 13,
   "id": "f9626d65-f0dc-47f6-8522-e4208e0a494c",
   "metadata": {},
   "outputs": [
    {
     "data": {
      "text/html": [
       "\n",
       "<div align=\"middle\">\n",
       "<video width=\"80%\" controls>\n",
       "      <source src=\"../images/zero_video.mp4\" type=\"video/mp4\">\n",
       "</video></div>"
      ],
      "text/plain": [
       "<IPython.core.display.HTML object>"
      ]
     },
     "execution_count": 13,
     "metadata": {},
     "output_type": "execute_result"
    }
   ],
   "source": [
    "from IPython.display import HTML\n",
    "\n",
    "HTML(\"\"\"\n",
    "<div align=\"middle\">\n",
    "<video width=\"80%\" controls>\n",
    "      <source src=\"../images/zero_video.mp4\" type=\"video/mp4\">\n",
    "</video></div>\"\"\")"
   ]
  },
  {
   "cell_type": "code",
   "execution_count": null,
   "id": "a7c642c5-a4fa-4e47-9e3e-284917aa7d70",
   "metadata": {},
   "outputs": [],
   "source": []
  }
 ],
 "metadata": {
  "kernelspec": {
   "display_name": "large-scale-lm",
   "language": "python",
   "name": "large-scale-lm"
  },
  "language_info": {
   "codemirror_mode": {
    "name": "ipython",
    "version": 3
   },
   "file_extension": ".py",
   "mimetype": "text/x-python",
   "name": "python",
   "nbconvert_exporter": "python",
   "pygments_lexer": "ipython3",
   "version": "3.10.14"
  }
 },
 "nbformat": 4,
 "nbformat_minor": 5
}
